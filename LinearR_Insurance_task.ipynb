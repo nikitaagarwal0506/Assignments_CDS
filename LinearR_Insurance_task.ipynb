{
 "cells": [
  {
   "cell_type": "code",
   "execution_count": 1,
   "id": "a2ce75e0",
   "metadata": {},
   "outputs": [],
   "source": [
    "import pandas as pd\n",
    "import seaborn as sns\n",
    "import matplotlib.pyplot as plt\n",
    "%matplotlib inline\n",
    "import warnings\n",
    "warnings.filterwarnings('ignore')"
   ]
  },
  {
   "cell_type": "code",
   "execution_count": 2,
   "id": "a3614b60",
   "metadata": {},
   "outputs": [
    {
     "data": {
      "text/html": [
       "<div>\n",
       "<style scoped>\n",
       "    .dataframe tbody tr th:only-of-type {\n",
       "        vertical-align: middle;\n",
       "    }\n",
       "\n",
       "    .dataframe tbody tr th {\n",
       "        vertical-align: top;\n",
       "    }\n",
       "\n",
       "    .dataframe thead th {\n",
       "        text-align: right;\n",
       "    }\n",
       "</style>\n",
       "<table border=\"1\" class=\"dataframe\">\n",
       "  <thead>\n",
       "    <tr style=\"text-align: right;\">\n",
       "      <th></th>\n",
       "      <th>age</th>\n",
       "      <th>sex</th>\n",
       "      <th>bmi</th>\n",
       "      <th>children</th>\n",
       "      <th>smoker</th>\n",
       "      <th>region</th>\n",
       "      <th>charges</th>\n",
       "    </tr>\n",
       "  </thead>\n",
       "  <tbody>\n",
       "    <tr>\n",
       "      <th>0</th>\n",
       "      <td>19</td>\n",
       "      <td>female</td>\n",
       "      <td>27.900</td>\n",
       "      <td>0</td>\n",
       "      <td>yes</td>\n",
       "      <td>southwest</td>\n",
       "      <td>16884.92400</td>\n",
       "    </tr>\n",
       "    <tr>\n",
       "      <th>1</th>\n",
       "      <td>18</td>\n",
       "      <td>male</td>\n",
       "      <td>33.770</td>\n",
       "      <td>1</td>\n",
       "      <td>no</td>\n",
       "      <td>southeast</td>\n",
       "      <td>1725.55230</td>\n",
       "    </tr>\n",
       "    <tr>\n",
       "      <th>2</th>\n",
       "      <td>28</td>\n",
       "      <td>male</td>\n",
       "      <td>33.000</td>\n",
       "      <td>3</td>\n",
       "      <td>no</td>\n",
       "      <td>southeast</td>\n",
       "      <td>4449.46200</td>\n",
       "    </tr>\n",
       "    <tr>\n",
       "      <th>3</th>\n",
       "      <td>33</td>\n",
       "      <td>male</td>\n",
       "      <td>22.705</td>\n",
       "      <td>0</td>\n",
       "      <td>no</td>\n",
       "      <td>northwest</td>\n",
       "      <td>21984.47061</td>\n",
       "    </tr>\n",
       "    <tr>\n",
       "      <th>4</th>\n",
       "      <td>32</td>\n",
       "      <td>male</td>\n",
       "      <td>28.880</td>\n",
       "      <td>0</td>\n",
       "      <td>no</td>\n",
       "      <td>northwest</td>\n",
       "      <td>3866.85520</td>\n",
       "    </tr>\n",
       "    <tr>\n",
       "      <th>...</th>\n",
       "      <td>...</td>\n",
       "      <td>...</td>\n",
       "      <td>...</td>\n",
       "      <td>...</td>\n",
       "      <td>...</td>\n",
       "      <td>...</td>\n",
       "      <td>...</td>\n",
       "    </tr>\n",
       "    <tr>\n",
       "      <th>1333</th>\n",
       "      <td>50</td>\n",
       "      <td>male</td>\n",
       "      <td>30.970</td>\n",
       "      <td>3</td>\n",
       "      <td>no</td>\n",
       "      <td>northwest</td>\n",
       "      <td>10600.54830</td>\n",
       "    </tr>\n",
       "    <tr>\n",
       "      <th>1334</th>\n",
       "      <td>18</td>\n",
       "      <td>female</td>\n",
       "      <td>31.920</td>\n",
       "      <td>0</td>\n",
       "      <td>no</td>\n",
       "      <td>northeast</td>\n",
       "      <td>2205.98080</td>\n",
       "    </tr>\n",
       "    <tr>\n",
       "      <th>1335</th>\n",
       "      <td>18</td>\n",
       "      <td>female</td>\n",
       "      <td>36.850</td>\n",
       "      <td>0</td>\n",
       "      <td>no</td>\n",
       "      <td>southeast</td>\n",
       "      <td>1629.83350</td>\n",
       "    </tr>\n",
       "    <tr>\n",
       "      <th>1336</th>\n",
       "      <td>21</td>\n",
       "      <td>female</td>\n",
       "      <td>25.800</td>\n",
       "      <td>0</td>\n",
       "      <td>no</td>\n",
       "      <td>southwest</td>\n",
       "      <td>2007.94500</td>\n",
       "    </tr>\n",
       "    <tr>\n",
       "      <th>1337</th>\n",
       "      <td>61</td>\n",
       "      <td>female</td>\n",
       "      <td>29.070</td>\n",
       "      <td>0</td>\n",
       "      <td>yes</td>\n",
       "      <td>northwest</td>\n",
       "      <td>29141.36030</td>\n",
       "    </tr>\n",
       "  </tbody>\n",
       "</table>\n",
       "<p>1338 rows × 7 columns</p>\n",
       "</div>"
      ],
      "text/plain": [
       "      age     sex     bmi  children smoker     region      charges\n",
       "0      19  female  27.900         0    yes  southwest  16884.92400\n",
       "1      18    male  33.770         1     no  southeast   1725.55230\n",
       "2      28    male  33.000         3     no  southeast   4449.46200\n",
       "3      33    male  22.705         0     no  northwest  21984.47061\n",
       "4      32    male  28.880         0     no  northwest   3866.85520\n",
       "...   ...     ...     ...       ...    ...        ...          ...\n",
       "1333   50    male  30.970         3     no  northwest  10600.54830\n",
       "1334   18  female  31.920         0     no  northeast   2205.98080\n",
       "1335   18  female  36.850         0     no  southeast   1629.83350\n",
       "1336   21  female  25.800         0     no  southwest   2007.94500\n",
       "1337   61  female  29.070         0    yes  northwest  29141.36030\n",
       "\n",
       "[1338 rows x 7 columns]"
      ]
     },
     "execution_count": 2,
     "metadata": {},
     "output_type": "execute_result"
    }
   ],
   "source": [
    "data=pd.read_csv('insurance.csv')\n",
    "data"
   ]
  },
  {
   "cell_type": "code",
   "execution_count": 3,
   "id": "47c152bd",
   "metadata": {},
   "outputs": [],
   "source": [
    "## in above data set Target variable is charges which continuous type so we will use linear regression"
   ]
  },
  {
   "cell_type": "code",
   "execution_count": null,
   "id": "7b2d282c",
   "metadata": {
    "scrolled": true
   },
   "outputs": [],
   "source": [
    "data.head()"
   ]
  },
  {
   "cell_type": "code",
   "execution_count": null,
   "id": "17e41b13",
   "metadata": {},
   "outputs": [],
   "source": [
    "data.shape"
   ]
  },
  {
   "cell_type": "code",
   "execution_count": null,
   "id": "c7a4d812",
   "metadata": {},
   "outputs": [],
   "source": [
    "data.tail()"
   ]
  },
  {
   "cell_type": "code",
   "execution_count": null,
   "id": "a905ae26",
   "metadata": {},
   "outputs": [],
   "source": [
    "data.info()"
   ]
  },
  {
   "cell_type": "code",
   "execution_count": null,
   "id": "e2deacb2",
   "metadata": {},
   "outputs": [],
   "source": [
    "data.isnull().sum()##no missing values"
   ]
  },
  {
   "cell_type": "code",
   "execution_count": null,
   "id": "4c92790c",
   "metadata": {},
   "outputs": [],
   "source": [
    "data.describe()#gives statistical info ### since STD !=0, so there is no constant features in the data set"
   ]
  },
  {
   "cell_type": "code",
   "execution_count": null,
   "id": "898c08c8",
   "metadata": {},
   "outputs": [],
   "source": [
    "data.median()"
   ]
  },
  {
   "cell_type": "code",
   "execution_count": null,
   "id": "c629382c",
   "metadata": {},
   "outputs": [],
   "source": [
    "data.mode()"
   ]
  },
  {
   "cell_type": "code",
   "execution_count": null,
   "id": "497d5340",
   "metadata": {},
   "outputs": [],
   "source": [
    "data.region.unique() ## region column is not unique"
   ]
  },
  {
   "cell_type": "code",
   "execution_count": null,
   "id": "f94a05c2",
   "metadata": {},
   "outputs": [],
   "source": [
    "data.sex.unique() ## sex column is not unique"
   ]
  },
  {
   "cell_type": "code",
   "execution_count": null,
   "id": "e8aa5891",
   "metadata": {},
   "outputs": [],
   "source": [
    "cor=data.corr()\n",
    "sns.heatmap(data.drop('charges',axis=1).corr(),annot=True)\n",
    "\n",
    "##no features are highly correlated hence we dont remove any feature"
   ]
  },
  {
   "cell_type": "code",
   "execution_count": null,
   "id": "42e9b923",
   "metadata": {},
   "outputs": [],
   "source": [
    "## line plot forb continuous data\n",
    "xa=data.age\n",
    "ya=data.charges\n",
    "plt.plot(xa,ya)\n",
    "plt.title(\"Age v/s Charges\")\n",
    "plt.xlabel(\"Age\")\n",
    "plt.ylabel(\"Charges\")\n",
    "plt.show()\n",
    "\n",
    "## there exist LINEAR relationship between AGE and Charges "
   ]
  },
  {
   "cell_type": "code",
   "execution_count": null,
   "id": "907ccab3",
   "metadata": {},
   "outputs": [],
   "source": [
    "## to check linear relationship between input variables and target variables (for continuous data)\n",
    "xa1=data.age\n",
    "ya1=data.charges\n",
    "plt.scatter(xa1,ya1)\n",
    "plt.title(\"Age v/s Charges\")\n",
    "plt.xlabel(\"Age\")\n",
    "plt.ylabel(\"Charges\")\n",
    "plt.show()\n",
    "\n",
    "## there exist LINEAR relationship between AGE and Charges "
   ]
  },
  {
   "cell_type": "code",
   "execution_count": null,
   "id": "157dbb21",
   "metadata": {},
   "outputs": [],
   "source": [
    "## Line plot for Continuous data\n",
    "xb=data.bmi\n",
    "yb=data.charges\n",
    "plt.plot(xb,yb)\n",
    "plt.title(\"BMI v/s Charges\")\n",
    "plt.xlabel(\"BMI\")\n",
    "plt.ylabel(\"Charges\")\n",
    "plt.show()\n",
    "\n",
    "## there exist no proper relationship between BMI and Charges "
   ]
  },
  {
   "cell_type": "code",
   "execution_count": null,
   "id": "ab715007",
   "metadata": {},
   "outputs": [],
   "source": [
    "xb1=data.bmi\n",
    "yb1=data.charges\n",
    "plt.scatter(xb1,yb1)\n",
    "plt.title(\"BMI v/s Charges\")\n",
    "plt.xlabel(\"BMI\")\n",
    "plt.ylabel(\"Charges\")\n",
    "plt.show()\n",
    "\n",
    "## there exist no proper relationship between BMI and Charges "
   ]
  },
  {
   "cell_type": "code",
   "execution_count": null,
   "id": "5362d44e",
   "metadata": {},
   "outputs": [],
   "source": [
    "## children has descrete data hence we plot BAR Plot\n",
    "xc1=data.children\n",
    "yc1=data.charges\n",
    "plt.bar(xc1,xc1)\n",
    "plt.title(\"No. of Childrens v/s Charges\")\n",
    "plt.xlabel(\"No. of Chilfren\")\n",
    "plt.ylabel(\"charges\")\n",
    "plt.show()\n",
    "\n",
    "## there exist linear relationship between No. of Children and Charges "
   ]
  },
  {
   "cell_type": "code",
   "execution_count": null,
   "id": "c31887dc",
   "metadata": {},
   "outputs": [],
   "source": [
    "## Checking for outliers in data set using BOX plot (for continuous data)\n",
    "x1=data.age\n",
    "plt.boxplot(x1)\n",
    "plt.title(\"Box plot for Age\")\n",
    "plt.show()\n",
    "\n",
    "## No outlier in Age"
   ]
  },
  {
   "cell_type": "code",
   "execution_count": null,
   "id": "8f7988b0",
   "metadata": {},
   "outputs": [],
   "source": [
    "x2=data.bmi\n",
    "plt.boxplot(x2)\n",
    "plt.title(\"Box plot for BMI\")\n",
    "plt.show()\n",
    "\n",
    "## BMI has Outliers"
   ]
  },
  {
   "cell_type": "code",
   "execution_count": null,
   "id": "da085a75",
   "metadata": {},
   "outputs": [],
   "source": [
    "## Checking for skewness in data set using distribution plot (for continuous data)\n",
    "x1=data.age\n",
    "sns.distplot(x1)\n",
    "plt.title(\"Distribution plot for Age\")\n",
    "plt.show()\n",
    "\n",
    "## positive Skewness means the tail of the distribution is longer towards the right hand side of the curve\n",
    "## the mean is the largest, while the mode is the smallest.\n",
    "## here mean is greater than median and mode\n",
    "## there is Positive Skewness in Age "
   ]
  },
  {
   "cell_type": "code",
   "execution_count": null,
   "id": "acd603e2",
   "metadata": {},
   "outputs": [],
   "source": [
    "x2=data.bmi\n",
    "sns.distplot(x2)\n",
    "plt.title(\"Distribution plot for BMI\")\n",
    "plt.show()\n",
    "\n",
    "## IN Normal distribution(symmetric), tail of the distribution is equal to both left and Right hand side of the curve\n",
    "## The mean median  mode are equal\n",
    "##(mode is most frequent value of the entire feature column)\n",
    "## here The mean is less than the median, and they are both less than the mode\n",
    "## there is Negative Skewness in BMI (but almost Symmetric)"
   ]
  },
  {
   "cell_type": "code",
   "execution_count": null,
   "id": "c2829d32",
   "metadata": {},
   "outputs": [],
   "source": [
    "x3=data.charges\n",
    "sns.distplot(x3)\n",
    "plt.title(\"Distribution plot for Charges\")\n",
    "plt.show()\n",
    "\n",
    "## positive Skewness means the tail of the distribution is longer towards the right hand side of the curve\n",
    "## the mean is the largest, while the mode is the smallest.\n",
    "## here mean is greater than median and mode but median mode is equal\n",
    "## there is Positive Skewness in Charges "
   ]
  },
  {
   "cell_type": "code",
   "execution_count": null,
   "id": "9225bc4e",
   "metadata": {},
   "outputs": [],
   "source": [
    "##Skweness and Kurtosis test i.e check for normality\n",
    "## Skewness is used to measure the level of asymmetry in our graph.\n",
    "## It is the measure of asymmetry that occurs when our data deviates from the norm\n",
    "## Skewness is used to denote the horizontal pull on the data.\n",
    "## -0.5 and 0.5, the distribution of the value is almost symmetrical(Mode = Median = Mean)\n",
    "## -1 and -0.5, the data is negatively skewed,The skewness is moderate.(Mode > Median > Mean.)\n",
    "##  0.5 to 1, the data is positively skewed. The skewness is moderate.(Mean > Median > Mode)\n",
    "## If the skewness is lower than -1 (negatively skewed) or greater than 1 (positively skewed), the data is highly skewed\n",
    "## negative skewness means the tail of the distribution is longer towards the left hand side of the curve\n",
    "## positive Skewness means the tail of the distribution is longer towards the right hand side of the curve\n",
    "\n",
    "from scipy.stats import skew  \n",
    "print(\"skewness for Age is= \",skew(data.age)) \n",
    "\n",
    "## Here distribution is symmetrical"
   ]
  },
  {
   "cell_type": "code",
   "execution_count": null,
   "id": "ce292df7",
   "metadata": {},
   "outputs": [],
   "source": [
    "# Kurtosis is used to find the presence of outliers in our data. It gives us the total degree of outliers present.\n",
    "# Kurtosis is used to find the vertical pull or the peak's height. \n",
    "## A kurtosis greater than 3 will indicate Positive Kurtosis.\n",
    "## For Positive Kurtosis, the values of kurtosis will range from 3 to infinity.\n",
    "## A kurtosis less than 3 will mean a negative kurtosis.\n",
    "## For Negative Kurtosis, the values kurtosis will range from  -2 to infinity.\n",
    "#  The greater the value of kurtosis, the higher the peak. \n",
    "\n",
    "from scipy.stats import kurtosis\n",
    "print(\"Kurtosis for Age= \",kurtosis(data.age)) \n",
    "\n",
    "## data has Negative Kurtosis"
   ]
  },
  {
   "cell_type": "code",
   "execution_count": null,
   "id": "4415b5a8",
   "metadata": {},
   "outputs": [],
   "source": [
    " print(\"skewness for BMI is= \",skew(data.bmi)) \n",
    "\n",
    "## Here distribution is symmetrical"
   ]
  },
  {
   "cell_type": "code",
   "execution_count": null,
   "id": "c1b1a849",
   "metadata": {},
   "outputs": [],
   "source": [
    "print(\"Kurtosis for BMI= \",kurtosis(data.bmi)) \n",
    "\n",
    "## data has Negative Kurtosis"
   ]
  },
  {
   "cell_type": "code",
   "execution_count": null,
   "id": "406211e5",
   "metadata": {
    "scrolled": true
   },
   "outputs": [],
   "source": [
    " print(\"skewness for Charges is= \",skew(data.charges)) \n",
    "\n",
    "## Here distribution is  highly positively skewed"
   ]
  },
  {
   "cell_type": "code",
   "execution_count": null,
   "id": "e30e64ea",
   "metadata": {},
   "outputs": [],
   "source": [
    "print(\"Kurtosis for Charges= \",kurtosis(data.charges)) \n",
    "\n",
    "## data has Negative Kurtosis"
   ]
  },
  {
   "cell_type": "code",
   "execution_count": null,
   "id": "09458085",
   "metadata": {},
   "outputs": [],
   "source": [
    "## We take only numerical data for training the model\n",
    "X=data.loc[:,['age','bmi','children']]\n",
    "Y=data.charges\n",
    "y=y/1000 ## since age bmi and charges are in different scale so Scaling is important"
   ]
  },
  {
   "cell_type": "code",
   "execution_count": null,
   "id": "c8cfeb33",
   "metadata": {
    "scrolled": true
   },
   "outputs": [],
   "source": [
    "y.head()"
   ]
  },
  {
   "cell_type": "code",
   "execution_count": null,
   "id": "d0823733",
   "metadata": {},
   "outputs": [],
   "source": [
    "X.head()"
   ]
  },
  {
   "cell_type": "code",
   "execution_count": null,
   "id": "79942bbc",
   "metadata": {},
   "outputs": [],
   "source": [
    "# splitting training data and test data\n",
    "\n",
    "from sklearn.model_selection import train_test_split\n",
    "X_train,X_test,y_train,y_test=train_test_split(X,y,random_state=10,test_size=0.3)"
   ]
  },
  {
   "cell_type": "code",
   "execution_count": null,
   "id": "6eccae3a",
   "metadata": {},
   "outputs": [],
   "source": [
    "# model learning\n",
    "\n",
    "from sklearn.linear_model import LinearRegression\n",
    "LR=LinearRegression() ##creating the model\n",
    "LR.fit(X_train,y_train) ## learning the model\n",
    "y_train_predict=LR.predict(X_train) ## predicting the training output\n",
    "y_test_predict=LR.predict(X_test) ## pedicting the test data output"
   ]
  },
  {
   "cell_type": "code",
   "execution_count": null,
   "id": "b65a58cf",
   "metadata": {},
   "outputs": [],
   "source": [
    "y_train_predict"
   ]
  },
  {
   "cell_type": "code",
   "execution_count": null,
   "id": "35d9abee",
   "metadata": {},
   "outputs": [],
   "source": [
    "y_test_predict"
   ]
  },
  {
   "cell_type": "markdown",
   "id": "3c343770",
   "metadata": {},
   "source": [
    "## Evaluation of metrics"
   ]
  },
  {
   "cell_type": "code",
   "execution_count": null,
   "id": "f2c4768b",
   "metadata": {},
   "outputs": [],
   "source": [
    "from sklearn.metrics import r2_score,mean_squared_error,mean_absolute_error"
   ]
  },
  {
   "cell_type": "code",
   "execution_count": null,
   "id": "d9958ec7",
   "metadata": {},
   "outputs": [],
   "source": [
    "##  for test data\n",
    "\n",
    "R2_score_test=r2_score(y_test,y_test_predict)\n",
    "print('r2 score for test data =',R2_score_test)"
   ]
  },
  {
   "cell_type": "code",
   "execution_count": null,
   "id": "f348232a",
   "metadata": {},
   "outputs": [],
   "source": [
    "mse_test=mean_squared_error(y_test,y_test_predict)\n",
    "print('MSE for test data =',mse_test)"
   ]
  },
  {
   "cell_type": "code",
   "execution_count": null,
   "id": "c0ecdaa9",
   "metadata": {},
   "outputs": [],
   "source": [
    "import numpy as np\n",
    "rmse_test=np.sqrt(mse_test)\n",
    "print('RMSE for test data =',rmse_test)"
   ]
  },
  {
   "cell_type": "code",
   "execution_count": null,
   "id": "37840d4f",
   "metadata": {},
   "outputs": [],
   "source": [
    "mae_test=mean_absolute_error(y_test,y_test_predict)\n",
    "print('MAE for test data =',mae_test)"
   ]
  },
  {
   "cell_type": "code",
   "execution_count": null,
   "id": "a04065da",
   "metadata": {},
   "outputs": [],
   "source": [
    "X_test.shape ## gives no of records for test data"
   ]
  },
  {
   "cell_type": "code",
   "execution_count": null,
   "id": "97db3512",
   "metadata": {},
   "outputs": [],
   "source": [
    "## Adjusted R2 Score\n",
    "\n",
    "adjusted_r2_test=1-(1-0.07616372699805607)*(402-1)/(402-3-1)  ## adjusted_r2_score=[1-(1-r2_score)(N-1)]/(N-P-1)\n",
    "print('Adjusted r2 score for test data = ',adjusted_r2_test)  ## N=total no of records, P= No of input columns"
   ]
  },
  {
   "cell_type": "markdown",
   "id": "8d85a1c4",
   "metadata": {},
   "source": [
    "####  since r2 score of test data is only 7.6%, model performance is very low\n",
    "####  since there is very less difference in R2 score and Adjusted R2 score in test data so there is no unimportant features"
   ]
  },
  {
   "cell_type": "code",
   "execution_count": null,
   "id": "4385e77c",
   "metadata": {},
   "outputs": [],
   "source": [
    "##  for training data\n",
    "R2_score_train=r2_score(y_train,y_train_predict)\n",
    "print('r2 score for train data =',R2_score_train)"
   ]
  },
  {
   "cell_type": "code",
   "execution_count": null,
   "id": "20f250c9",
   "metadata": {},
   "outputs": [],
   "source": [
    "mse_train=mean_squared_error(y_train,y_train_predict)\n",
    "print('MSE for train data =',mse_train)"
   ]
  },
  {
   "cell_type": "code",
   "execution_count": null,
   "id": "6819ee06",
   "metadata": {},
   "outputs": [],
   "source": [
    "rmse_train=np.sqrt(mse_train)\n",
    "print('RMSE for train data =',rmse_train)"
   ]
  },
  {
   "cell_type": "code",
   "execution_count": null,
   "id": "011273ba",
   "metadata": {},
   "outputs": [],
   "source": [
    "mae_train=mean_absolute_error(y_train,y_train_predict)\n",
    "print('MAE for train data =',mae_train)"
   ]
  },
  {
   "cell_type": "code",
   "execution_count": null,
   "id": "cfddb1a4",
   "metadata": {},
   "outputs": [],
   "source": [
    "X_train.shape ## gives no of records for training data"
   ]
  },
  {
   "cell_type": "code",
   "execution_count": null,
   "id": "72d97ef7",
   "metadata": {},
   "outputs": [],
   "source": [
    "adjusted_r2_train=1-(1-0.13450412919259236)*(936-1)/(936-3-1)       ## adjusted_r2_score=[1-(1-r2_score)(N-1)]/(N-P-1)\n",
    "print('Adjusted r2 score for training data = ',adjusted_r2_train)   ## N=total no of records, P= No of input columns "
   ]
  },
  {
   "cell_type": "markdown",
   "id": "3f443ef0",
   "metadata": {},
   "source": [
    "####  since r2 score for training data is only 13 % so model performance is very low\n",
    "####  since there is very less difference in R2 score and Adjusted R2 score in training data so there is no unimportant features"
   ]
  },
  {
   "cell_type": "code",
   "execution_count": null,
   "id": "5082b945",
   "metadata": {},
   "outputs": [],
   "source": [
    "print('intercept:', LR.intercept_) ## c value"
   ]
  },
  {
   "cell_type": "code",
   "execution_count": null,
   "id": "3e23f560",
   "metadata": {},
   "outputs": [],
   "source": [
    "print('slope:', LR.coef_) ## m values"
   ]
  },
  {
   "cell_type": "markdown",
   "id": "c0d0859b",
   "metadata": {},
   "source": [
    "##  Insights of the data set"
   ]
  },
  {
   "cell_type": "code",
   "execution_count": null,
   "id": "4bc532f7",
   "metadata": {},
   "outputs": [],
   "source": [
    "## Since model does not perform well with the training as well as testing data, So our model is UNDERFITTING MODEL\n",
    "## There is high Bias and high Variance"
   ]
  }
 ],
 "metadata": {
  "kernelspec": {
   "display_name": "Python 3 (ipykernel)",
   "language": "python",
   "name": "python3"
  },
  "language_info": {
   "codemirror_mode": {
    "name": "ipython",
    "version": 3
   },
   "file_extension": ".py",
   "mimetype": "text/x-python",
   "name": "python",
   "nbconvert_exporter": "python",
   "pygments_lexer": "ipython3",
   "version": "3.9.7"
  }
 },
 "nbformat": 4,
 "nbformat_minor": 5
}
